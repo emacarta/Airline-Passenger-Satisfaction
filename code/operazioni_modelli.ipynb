{
 "cells": [
  {
   "cell_type": "markdown",
   "metadata": {},
   "source": [
    "# LIBRERIE"
   ]
  },
  {
   "cell_type": "code",
   "execution_count": null,
   "metadata": {},
   "outputs": [],
   "source": [
    "import numpy as np\n",
    "import pandas as pd\n",
    "import matplotlib.pyplot as plt\n",
    "import plotly.express as px\n",
    "import seaborn as sns\n",
    "from sklearn.preprocessing import LabelEncoder\n",
    "from sklearn.preprocessing import StandardScaler\n",
    "from sklearn.metrics import accuracy_score, roc_auc_score \n",
    "from sklearn.metrics import classification_report, plot_confusion_matrix, plot_roc_curve"
   ]
  },
  {
   "cell_type": "markdown",
   "metadata": {},
   "source": [
    "# DATASET"
   ]
  },
  {
   "cell_type": "code",
   "execution_count": null,
   "metadata": {},
   "outputs": [],
   "source": [
    "airline_train = pd.read_csv(\"/Users/emanuele/Desktop/Machine Learning/ProgettoML/airline-train.csv\")\n",
    "airline_test = pd.read_csv(\"/Users/emanuele/Desktop/Machine Learning/ProgettoML/airline-test.csv\")\n",
    "\n",
    "print('airline_test:',airline_test.shape,'airline_train:',airline_train.shape)\n",
    "\n",
    "data = airline_train #rinomino il dataset per l'analisi\n",
    "data_train = airline_train \n",
    "data_test = airline_test"
   ]
  },
  {
   "cell_type": "code",
   "execution_count": null,
   "metadata": {},
   "outputs": [],
   "source": [
    "data = data.drop(data.iloc[:,[0, 1]], axis = 1)\n",
    "categorical_indexes = [0, 1, 3, 4] + list(range(6, 20))\n",
    "data.iloc[:,categorical_indexes] = data.iloc[:,categorical_indexes].astype('category')\n",
    "\n",
    "data.columns = [c.replace(' ', '_') for c in data.columns]\n",
    "\n",
    "data.info()"
   ]
  },
  {
   "cell_type": "code",
   "execution_count": null,
   "metadata": {},
   "outputs": [],
   "source": [
    "col_numeriche = [feature for feature in data.columns if data[feature].dtype.name != 'category']\n",
    "col_numeriche.remove('satisfaction')\n",
    "col_categoriche = [feature for feature in data.columns if data[feature].dtype.name == 'category']\n",
    "data_describe = data.describe(include = ['category'])\n",
    "\n",
    "print('-'*40)\n",
    "print('Numero colonne categorico: ',len(col_categoriche))\n",
    "print('-'*40)\n",
    "print('Nomi colonne categoriche:',col_categoriche)\n",
    "print(' '*40)\n",
    "print('-'*40)\n",
    "print('Numero colonne numeriche: ', len(col_numeriche))\n",
    "print('-'*40)\n",
    "print('Nomi colonne numeriche: ',col_numeriche)"
   ]
  },
  {
   "cell_type": "code",
   "execution_count": null,
   "metadata": {},
   "outputs": [],
   "source": [
    "col_binarie = [columns for columns in col_categoriche if data_describe[columns]['unique'] == 2]\n",
    "col_nonbinarie = [columns for columns in col_categoriche if data_describe[columns]['unique'] > 2]\n",
    "\n",
    "print('-'*40)\n",
    "print('Numero colonne binarie: ',len(col_binarie))\n",
    "print('-'*40)\n",
    "print('Nome colonne binarie:',col_binarie)\n",
    "print(' '*40)\n",
    "print('-'*40)\n",
    "print('Numero colonne non binarie: ', len(col_nonbinarie))\n",
    "print('-'*40)\n",
    "print('Nome colonne non binarie: ',col_nonbinarie)"
   ]
  },
  {
   "cell_type": "markdown",
   "metadata": {},
   "source": [
    "# OPERAZIONI SUI DATASET"
   ]
  },
  {
   "cell_type": "code",
   "execution_count": null,
   "metadata": {},
   "outputs": [],
   "source": [
    "#rimuovo colonne dove è presente l'id \n",
    "data_train = data_train.drop(data_train.iloc[:,[0, 1]], axis = 1)\n",
    "data_test = data_test.drop(data_test.iloc[:,[0, 1]], axis = 1)\n",
    "#cambio i nomi delle colonne sostituendo gli spazzi\n",
    "data_train.columns = [c.replace(' ', '_') for c in data_train.columns]\n",
    "data_test.columns = [c.replace(' ', '_') for c in data_test.columns]"
   ]
  },
  {
   "cell_type": "code",
   "execution_count": null,
   "metadata": {},
   "outputs": [],
   "source": [
    "#trovo gli na\n",
    "data_train.isna().sum()"
   ]
  },
  {
   "cell_type": "code",
   "execution_count": null,
   "metadata": {},
   "outputs": [],
   "source": [
    "#trovo gli na\n",
    "data_test.isna().sum()"
   ]
  },
  {
   "cell_type": "code",
   "execution_count": null,
   "metadata": {},
   "outputs": [],
   "source": [
    "data_test.describe()"
   ]
  },
  {
   "cell_type": "code",
   "execution_count": null,
   "metadata": {},
   "outputs": [],
   "source": [
    "df_train = data_train\n",
    "df_test = data_test\n",
    "#elimino le colonne che non mi servono\n",
    "df_train.drop(['Gender','Gate_location','Departure/Arrival_time_convenient'], axis=1, inplace=True)\n",
    "df_test.drop(['Gender','Gate_location','Departure/Arrival_time_convenient'], axis=1, inplace=True)\n",
    "#sostituisco gli na con la media\n",
    "df_train['Arrival_Delay_in_Minutes'].fillna(df_train['Arrival_Delay_in_Minutes'].median(axis = 0), inplace = True)\n",
    "df_test['Arrival_Delay_in_Minutes'].fillna(df_test['Arrival_Delay_in_Minutes'].median(axis = 0), inplace = True)\n",
    "\n",
    "lencoders = {}\n",
    "for col in df_train.select_dtypes(include=['object']).columns:\n",
    "    lencoders[col] = LabelEncoder()\n",
    "    df_train[col] = lencoders[col].fit_transform(df_train[col])\n",
    "lencoders_t = {}\n",
    "for col in df_test.select_dtypes(include=['object']).columns:\n",
    "    lencoders_t[col] = LabelEncoder()\n",
    "    df_test[col] = lencoders_t[col].fit_transform(df_test[col])"
   ]
  },
  {
   "cell_type": "code",
   "execution_count": null,
   "metadata": {},
   "outputs": [],
   "source": [
    "data_train"
   ]
  },
  {
   "cell_type": "markdown",
   "metadata": {},
   "source": [
    "# MODELLI\n"
   ]
  },
  {
   "cell_type": "code",
   "execution_count": null,
   "metadata": {},
   "outputs": [],
   "source": [
    "#definisco x ed y \n",
    "y_train = df_train['satisfaction'].to_numpy()\n",
    "y_test = df_test['satisfaction'].to_numpy()\n",
    "df_train.drop(['satisfaction'], axis=1, inplace=True)\n",
    "df_test.drop(['satisfaction'], axis=1, inplace=True)\n",
    "X_train = df_train\n",
    "X_test = df_test\n",
    "\n",
    "#normalizzo\n",
    "scaler = StandardScaler()\n",
    "X_train = scaler.fit_transform(X_train)\n",
    "X_test = scaler.fit_transform(X_test)"
   ]
  },
  {
   "cell_type": "code",
   "execution_count": null,
   "metadata": {},
   "outputs": [],
   "source": [
    "import time\n",
    "from sklearn.metrics import accuracy_score, roc_auc_score, classification_report, plot_confusion_matrix, plot_roc_curve\n",
    "from matplotlib import pyplot as plt \n",
    "def run_model(model, X_train, y_train, X_test, y_test, verbose=True):\n",
    "    t0=time.time()\n",
    "    if verbose == False:\n",
    "        model.fit(X_train,y_train.ravel(), verbose=0)\n",
    "    else:\n",
    "        model.fit(X_train,y_train.ravel())\n",
    "    y_pred = model.predict(X_test)\n",
    "    accuracy = accuracy_score(y_test, y_pred)\n",
    "    roc_auc = roc_auc_score(y_test, y_pred) \n",
    "    time_taken = time.time()-t0\n",
    "    print(\"Accuracy = {}\".format(accuracy))\n",
    "    print(\"ROC Area under Curve = {}\".format(roc_auc))\n",
    "    print(\"Time taken = {}\".format(time_taken))\n",
    "    print(classification_report(y_test,y_pred,digits=5))\n",
    "    plot_confusion_matrix(model, X_test, y_test)\n",
    "    plot_roc_curve(model, X_test, y_test)                     \n",
    "    \n",
    "    return model, accuracy, roc_auc, time_taken"
   ]
  },
  {
   "cell_type": "code",
   "execution_count": null,
   "metadata": {},
   "outputs": [],
   "source": [
    "data_train.columns"
   ]
  },
  {
   "cell_type": "markdown",
   "metadata": {},
   "source": [
    "## MODELLO 1"
   ]
  },
  {
   "cell_type": "code",
   "execution_count": null,
   "metadata": {},
   "outputs": [],
   "source": [
    "import statsmodels.api as sm\n",
    "logit_model=sm.Logit(y_train,X_train)\n",
    "result=logit_model.fit()\n",
    "print(result.summary())"
   ]
  },
  {
   "cell_type": "code",
   "execution_count": null,
   "metadata": {},
   "outputs": [],
   "source": [
    "from sklearn.linear_model import LogisticRegression\n",
    "\n",
    "params_lr = {'penalty': 'elasticnet', 'l1_ratio':0.5, 'solver': 'saga'}\n",
    "\n",
    "log = LogisticRegression(**params_lr)\n",
    "\n",
    "\n",
    "log.fit(X_train,y_train.ravel())\n",
    "y_pred = log.predict(X_test)\n",
    "accuracy = accuracy_score(y_test, y_pred)\n",
    "roc_auc = roc_auc_score(y_test, y_pred) \n",
    "\n",
    "\n",
    "print(\"Accuracy = {}\".format(accuracy))\n",
    "print(\"ROC Area under Curve = {}\".format(roc_auc))\n",
    "print(classification_report(y_test,y_pred,digits=5))\n",
    "plot_confusion_matrix(log, X_test, y_test,)\n",
    "plot_roc_curve(log, X_test, y_test) \n",
    "\n",
    "pass"
   ]
  },
  {
   "cell_type": "markdown",
   "metadata": {},
   "source": [
    "## MODELLO 2"
   ]
  },
  {
   "cell_type": "code",
   "execution_count": null,
   "metadata": {},
   "outputs": [],
   "source": [
    "df_train = data_train\n",
    "df_test = data_test\n",
    "df_train.drop(['Gender','Gate_location','Departure/Arrival_time_convenient','Flight_Distance'], axis=1, inplace=True)\n",
    "df_test.drop(['Gender','Gate_location','Departure/Arrival_time_convenient','Flight_Distance'], axis=1, inplace=True)\n",
    "#-------------------------------------------------------------------------#\n",
    "df_train['Arrival_Delay_in_Minutes'].fillna(df_train['Arrival_Delay_in_Minutes'].median(axis = 0), inplace = True)\n",
    "df_test['Arrival_Delay_in_Minutes'].fillna(df_test['Arrival_Delay_in_Minutes'].median(axis = 0), inplace = True)\n",
    "#-------------------------------------------------------------------------#\n",
    "df_train['satisfaction'].replace({'neutral or dissatisfied': 0, 'satisfied': 1},inplace = True)\n",
    "df_test['satisfaction'].replace({'neutral or dissatisfied': 0, 'satisfied': 1},inplace = True)\n",
    "#\n",
    "from sklearn.preprocessing import LabelEncoder\n",
    "lencoders = {}\n",
    "for col in df_train.select_dtypes(include=['object']).columns:\n",
    "    lencoders[col] = LabelEncoder()\n",
    "    df_train[col] = lencoders[col].fit_transform(df_train[col])\n",
    "lencoders_t = {}\n",
    "for col in df_test.select_dtypes(include=['object']).columns:\n",
    "    lencoders_t[col] = LabelEncoder()\n",
    "    df_test[col] = lencoders_t[col].fit_transform(df_test[col])\n",
    "#\n",
    "y_train = df_train['satisfaction'].to_numpy()\n",
    "y_test = df_test['satisfaction'].to_numpy()\n",
    "df_train.drop(['satisfaction'], axis=1, inplace=True)\n",
    "df_test.drop(['satisfaction'], axis=1, inplace=True)\n",
    "X_train = df_train\n",
    "X_test = df_test\n",
    "#\n",
    "from sklearn.preprocessing import StandardScaler\n",
    "scaler = StandardScaler()\n",
    "X_train = scaler.fit_transform(X_train)\n",
    "X_test = scaler.fit_transform(X_test)"
   ]
  },
  {
   "cell_type": "code",
   "execution_count": null,
   "metadata": {},
   "outputs": [],
   "source": [
    "from sklearn.linear_model import LogisticRegression\n",
    "\n",
    "params_lr = {'penalty': 'elasticnet', 'l1_ratio':0.5, 'solver': 'saga'}\n",
    "\n",
    "log = LogisticRegression(**params_lr)\n",
    "\n",
    "\n",
    "log.fit(X_train,y_train.ravel())\n",
    "y_pred = log.predict(X_test)\n",
    "accuracy = accuracy_score(y_test, y_pred)\n",
    "roc_auc = roc_auc_score(y_test, y_pred) \n",
    "\n",
    "\n",
    "print(\"Accuracy = {}\".format(accuracy))\n",
    "print(\"ROC Area under Curve = {}\".format(roc_auc))\n",
    "print(classification_report(y_test,y_pred,digits=5))\n",
    "plot_confusion_matrix(log, X_test, y_test,)\n",
    "plot_roc_curve(log, X_test, y_test) \n",
    "\n",
    "pass"
   ]
  }
 ],
 "metadata": {
  "interpreter": {
   "hash": "28db2cdea796381823031ea64014c20b5b1d93b04c2797bd17c518394bba0663"
  },
  "kernelspec": {
   "display_name": "Python 3.9.7 ('base')",
   "language": "python",
   "name": "python3"
  },
  "language_info": {
   "codemirror_mode": {
    "name": "ipython",
    "version": 3
   },
   "file_extension": ".py",
   "mimetype": "text/x-python",
   "name": "python",
   "nbconvert_exporter": "python",
   "pygments_lexer": "ipython3",
   "version": "3.9.7"
  },
  "orig_nbformat": 4
 },
 "nbformat": 4,
 "nbformat_minor": 2
}
