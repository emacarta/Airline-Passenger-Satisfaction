{
 "cells": [
  {
   "cell_type": "markdown",
   "metadata": {},
   "source": [
    "# LIBRERIE"
   ]
  },
  {
   "cell_type": "code",
   "execution_count": 4,
   "metadata": {},
   "outputs": [],
   "source": [
    "import numpy as np\n",
    "import pandas as pd\n",
    "import matplotlib.pyplot as plt\n",
    "import plotly.express as px\n",
    "import seaborn as sns\n",
    "import plotly.graph_objects as go"
   ]
  },
  {
   "cell_type": "markdown",
   "metadata": {},
   "source": [
    "# ANALISI"
   ]
  },
  {
   "cell_type": "code",
   "execution_count": 2,
   "metadata": {},
   "outputs": [],
   "source": [
    "airline_train = pd.read_csv(\"/Users/emanuele/Desktop/Machine Learning/ProgettoML/airline-train.csv\")\n",
    "data = airline_train\n",
    "\n",
    "data = data.drop(data.iloc[:,[0, 1]], axis = 1)\n",
    "categorical_indexes = [0, 1, 3, 4] + list(range(6, 20))\n",
    "data.iloc[:,categorical_indexes] = data.iloc[:,categorical_indexes].astype('category')\n",
    "\n",
    "data.columns = [c.replace(' ', '_') for c in data.columns]"
   ]
  },
  {
   "cell_type": "code",
   "execution_count": 3,
   "metadata": {},
   "outputs": [
    {
     "data": {
      "text/html": [
       "<div>\n",
       "<style scoped>\n",
       "    .dataframe tbody tr th:only-of-type {\n",
       "        vertical-align: middle;\n",
       "    }\n",
       "\n",
       "    .dataframe tbody tr th {\n",
       "        vertical-align: top;\n",
       "    }\n",
       "\n",
       "    .dataframe thead th {\n",
       "        text-align: right;\n",
       "    }\n",
       "</style>\n",
       "<table border=\"1\" class=\"dataframe\">\n",
       "  <thead>\n",
       "    <tr style=\"text-align: right;\">\n",
       "      <th></th>\n",
       "      <th>Age</th>\n",
       "      <th>Flight_Distance</th>\n",
       "      <th>Departure_Delay_in_Minutes</th>\n",
       "      <th>Arrival_Delay_in_Minutes</th>\n",
       "    </tr>\n",
       "  </thead>\n",
       "  <tbody>\n",
       "    <tr>\n",
       "      <th>count</th>\n",
       "      <td>103904.000000</td>\n",
       "      <td>103904.000000</td>\n",
       "      <td>103904.000000</td>\n",
       "      <td>103594.000000</td>\n",
       "    </tr>\n",
       "    <tr>\n",
       "      <th>mean</th>\n",
       "      <td>39.379706</td>\n",
       "      <td>1189.448375</td>\n",
       "      <td>14.815618</td>\n",
       "      <td>15.178678</td>\n",
       "    </tr>\n",
       "    <tr>\n",
       "      <th>std</th>\n",
       "      <td>15.114964</td>\n",
       "      <td>997.147281</td>\n",
       "      <td>38.230901</td>\n",
       "      <td>38.698682</td>\n",
       "    </tr>\n",
       "    <tr>\n",
       "      <th>min</th>\n",
       "      <td>7.000000</td>\n",
       "      <td>31.000000</td>\n",
       "      <td>0.000000</td>\n",
       "      <td>0.000000</td>\n",
       "    </tr>\n",
       "    <tr>\n",
       "      <th>25%</th>\n",
       "      <td>27.000000</td>\n",
       "      <td>414.000000</td>\n",
       "      <td>0.000000</td>\n",
       "      <td>0.000000</td>\n",
       "    </tr>\n",
       "    <tr>\n",
       "      <th>50%</th>\n",
       "      <td>40.000000</td>\n",
       "      <td>843.000000</td>\n",
       "      <td>0.000000</td>\n",
       "      <td>0.000000</td>\n",
       "    </tr>\n",
       "    <tr>\n",
       "      <th>75%</th>\n",
       "      <td>51.000000</td>\n",
       "      <td>1743.000000</td>\n",
       "      <td>12.000000</td>\n",
       "      <td>13.000000</td>\n",
       "    </tr>\n",
       "    <tr>\n",
       "      <th>max</th>\n",
       "      <td>85.000000</td>\n",
       "      <td>4983.000000</td>\n",
       "      <td>1592.000000</td>\n",
       "      <td>1584.000000</td>\n",
       "    </tr>\n",
       "  </tbody>\n",
       "</table>\n",
       "</div>"
      ],
      "text/plain": [
       "                 Age  Flight_Distance  Departure_Delay_in_Minutes  \\\n",
       "count  103904.000000    103904.000000               103904.000000   \n",
       "mean       39.379706      1189.448375                   14.815618   \n",
       "std        15.114964       997.147281                   38.230901   \n",
       "min         7.000000        31.000000                    0.000000   \n",
       "25%        27.000000       414.000000                    0.000000   \n",
       "50%        40.000000       843.000000                    0.000000   \n",
       "75%        51.000000      1743.000000                   12.000000   \n",
       "max        85.000000      4983.000000                 1592.000000   \n",
       "\n",
       "       Arrival_Delay_in_Minutes  \n",
       "count             103594.000000  \n",
       "mean                  15.178678  \n",
       "std                   38.698682  \n",
       "min                    0.000000  \n",
       "25%                    0.000000  \n",
       "50%                    0.000000  \n",
       "75%                   13.000000  \n",
       "max                 1584.000000  "
      ]
     },
     "execution_count": 3,
     "metadata": {},
     "output_type": "execute_result"
    }
   ],
   "source": [
    "data.describe()"
   ]
  },
  {
   "cell_type": "code",
   "execution_count": null,
   "metadata": {},
   "outputs": [],
   "source": [
    "#train\n",
    "pie_satisfaction = px.pie(data.satisfaction.value_counts(), values='satisfaction', \n",
    "    names=[\"Neutral_or_dissatisfied\", \"Satisfied\"], color_discrete_sequence= ['#b30000','#00b300'])\n",
    "pie_satisfaction.show()"
   ]
  },
  {
   "cell_type": "code",
   "execution_count": null,
   "metadata": {},
   "outputs": [],
   "source": [
    "with sns.axes_style(style='ticks'):\n",
    "    barPlot = sns.catplot(\"satisfaction\", col=\"Gender\", col_wrap=2, data=data, \n",
    "        kind=\"count\", height=4, aspect=1,palette = ['#b30000','#00b300'])  \n",
    "    barPlot = sns.catplot(\"satisfaction\", col=\"Customer_Type\", col_wrap=2, data=data, \n",
    "        kind=\"count\", height=4, aspect=1,palette = ['#b30000','#00b300'])\n",
    "    barPlot = sns.catplot(\"satisfaction\", col=\"Type_of_Travel\", col_wrap=2, data=data, \n",
    "        kind=\"count\", height=4, aspect=1,palette = ['#b30000','#00b300'])\n",
    "\n",
    "pass"
   ]
  },
  {
   "cell_type": "code",
   "execution_count": null,
   "metadata": {},
   "outputs": [],
   "source": [
    "with sns.axes_style(style='ticks'):\n",
    "    barPlot = sns.catplot(x=\"Flight_Distance\", y=\"Type_of_Travel\", hue=\"satisfaction\",\n",
    "        col=\"Class\", data=data, kind=\"bar\", height=4.5, aspect=.8,palette = ['#b30000','#00b300'])"
   ]
  },
  {
   "cell_type": "code",
   "execution_count": null,
   "metadata": {},
   "outputs": [],
   "source": [
    "x = data[data.satisfaction=='neutral or dissatisfied']\n",
    "y = data[data.satisfaction=='satisfied']\n",
    "\n",
    "fig = go.Figure()\n",
    "fig.add_trace(go.Histogram(x=x['Age'],name='neutral or dissatisfied',marker_color='#b30000'))\n",
    "fig.add_trace(go.Histogram(x=y['Age'],name='satisfied',marker_color='#00b300'))\n",
    "fig.update_layout(barmode='overlay')\n",
    "fig.update_traces(opacity=0.75)\n",
    "fig.show()"
   ]
  },
  {
   "cell_type": "code",
   "execution_count": null,
   "metadata": {},
   "outputs": [],
   "source": [
    "x = data[data.Class=='Eco Plus']\n",
    "y = data[data.Class=='Eco']\n",
    "z = data[data.Class=='Business']\n",
    "\n",
    "fig = go.Figure()\n",
    "fig.add_trace(go.Histogram(x=z['Flight_Distance'],name='Business',marker_color='#1154ff'))\n",
    "fig.add_trace(go.Histogram(x=y['Flight_Distance'],name='Eco',marker_color='#f6b000'))\n",
    "fig.add_trace(go.Histogram(x=x['Flight_Distance'],name='Eco Plus',marker_color='#67c200'))\n",
    "fig.update_layout(barmode='overlay')\n",
    "fig.update_traces()\n",
    "fig.show()"
   ]
  },
  {
   "cell_type": "code",
   "execution_count": null,
   "metadata": {},
   "outputs": [],
   "source": [
    "f, ax = plt.subplots(1, 3, figsize = (20,7))\n",
    "sns.countplot(x = 'Inflight_wifi_service', hue = 'satisfaction', palette = ['#b30000','#00b300'], data = data, ax = ax[0])\n",
    "sns.countplot(x = 'Seat_comfort', hue = 'satisfaction', palette = ['#b30000','#00b300'], data = data, ax = ax[1])\n",
    "sns.countplot(x = 'Leg_room_service', hue = 'satisfaction', palette = ['#b30000','#00b300'], data = data, ax = ax[2])\n",
    "plt.show()"
   ]
  },
  {
   "cell_type": "code",
   "execution_count": null,
   "metadata": {},
   "outputs": [],
   "source": [
    "f, ax = plt.subplots(1, 3, figsize = (20,7))\n",
    "sns.countplot(x = 'Departure/Arrival_time_convenient', hue = 'satisfaction', palette = ['#b30000','#00b300'], data = data, ax = ax[0])\n",
    "sns.countplot(x = 'Ease_of_Online_booking', hue = 'satisfaction', palette = ['#b30000','#00b300'], data = data, ax = ax[1])\n",
    "sns.countplot(x = 'Food_and_drink', hue = 'satisfaction', palette = ['#b30000','#00b300'], data = data, ax = ax[2])\n",
    "plt.show()"
   ]
  },
  {
   "cell_type": "code",
   "execution_count": null,
   "metadata": {},
   "outputs": [],
   "source": [
    "f, ax = plt.subplots(1, 3, figsize = (20,7))\n",
    "sns.countplot(x = 'Online_boarding', hue = 'satisfaction', palette = ['#b30000','#00b300'], data = data, ax = ax[0])\n",
    "sns.countplot(x = 'Inflight_entertainment', hue = 'satisfaction', palette = ['#b30000','#00b300'], data = data, ax = ax[1])\n",
    "sns.countplot(x = 'On-board_service', hue = 'satisfaction', palette = ['#b30000','#00b300'], data = data, ax = ax[2])\n",
    "plt.show()"
   ]
  },
  {
   "cell_type": "code",
   "execution_count": null,
   "metadata": {},
   "outputs": [],
   "source": [
    "f, ax = plt.subplots(1, 3, figsize = (20,7))\n",
    "sns.countplot(x = 'Baggage_handling', hue = 'satisfaction', palette = ['#b30000','#00b300'], data = data, ax = ax[0])\n",
    "sns.countplot(x = 'Checkin_service', hue = 'satisfaction', palette = ['#b30000','#00b300'], data = data, ax = ax[1])\n",
    "sns.countplot(x = 'Inflight_service', hue = 'satisfaction', palette = ['#b30000','#00b300'], data = data, ax = ax[2])\n",
    "plt.show()"
   ]
  },
  {
   "cell_type": "code",
   "execution_count": null,
   "metadata": {},
   "outputs": [],
   "source": [
    "f, ax = plt.subplots(1, 2, figsize = (20,7))\n",
    "sns.countplot(x = 'Cleanliness', hue = 'satisfaction', palette = ['#b30000','#00b300'], data = data, ax = ax[0])\n",
    "sns.countplot(x = 'Gate_location', hue = 'satisfaction', palette = ['#b30000','#00b300'], data = data, ax = ax[1])\n",
    "plt.show()"
   ]
  }
 ],
 "metadata": {
  "interpreter": {
   "hash": "28db2cdea796381823031ea64014c20b5b1d93b04c2797bd17c518394bba0663"
  },
  "kernelspec": {
   "display_name": "Python 3.9.7 ('base')",
   "language": "python",
   "name": "python3"
  },
  "language_info": {
   "codemirror_mode": {
    "name": "ipython",
    "version": 3
   },
   "file_extension": ".py",
   "mimetype": "text/x-python",
   "name": "python",
   "nbconvert_exporter": "python",
   "pygments_lexer": "ipython3",
   "version": "3.9.7"
  },
  "orig_nbformat": 4
 },
 "nbformat": 4,
 "nbformat_minor": 2
}
